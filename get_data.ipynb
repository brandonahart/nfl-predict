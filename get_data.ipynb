{
 "cells": [
  {
   "cell_type": "code",
   "execution_count": 1,
   "metadata": {},
   "outputs": [],
   "source": [
    "import os\n",
    "from bs4 import BeautifulSoup\n",
    "from playwright.async_api import async_playwright, TimeoutError as PlaywrightTimeout\n",
    "import time"
   ]
  },
  {
   "cell_type": "code",
   "execution_count": 2,
   "metadata": {},
   "outputs": [],
   "source": [
    "SEASONS = list(range(2016, 2024))"
   ]
  },
  {
   "cell_type": "code",
   "execution_count": 3,
   "metadata": {},
   "outputs": [],
   "source": [
    "DIR = os.getcwd() + \"/nfl_predictor\"\n",
    "DATA_DIR = os.path.join(DIR, \"data\")\n",
    "STANDINGS_DIR = os.path.join(DATA_DIR, \"standings\")\n",
    "SCORES_DIR = os.path.join(DATA_DIR, \"scores\")\n"
   ]
  },
  {
   "cell_type": "code",
   "execution_count": 4,
   "metadata": {},
   "outputs": [],
   "source": [
    "async def get_html(url, selector, sleep=5, retries=3):\n",
    "    html = None\n",
    "    for i in range(1, retries+1):\n",
    "        time.sleep(sleep * i) #prevents us from scrapping too fast\n",
    "        \n",
    "        try:\n",
    "            async with async_playwright() as p:\n",
    "                browser = await p.chromium.launch()\n",
    "                page = await browser.new_page()\n",
    "                await page.goto(url)\n",
    "                print(await page.title())\n",
    "                html = await page.inner_html(selector)\n",
    "        except PlaywrightTimeout:\n",
    "            print(f\"Timeout Error on {url}\")\n",
    "            continue\n",
    "        else:\n",
    "            break\n",
    "        \n",
    "    return html"
   ]
  },
  {
   "cell_type": "code",
   "execution_count": 8,
   "metadata": {},
   "outputs": [],
   "source": [
    "async def scrape_season(season):\n",
    "    url = f\"https://www.pro-football-reference.com/years/{season}/games.htm\"\n",
    "    path = f\"{season}_games.htm\"\n",
    "    save_path = os.path.join(STANDINGS_DIR, path)\n",
    "    if os.path.exists(save_path):\n",
    "        return\n",
    "    \n",
    "    html = await get_html(url, \"#all_games\")\n",
    "    \n",
    "    print(save_path)\n",
    "    with open(save_path, 'w+') as f:\n",
    "        f.write(html)\n",
    "    \n",
    "    "
   ]
  },
  {
   "cell_type": "code",
   "execution_count": 9,
   "metadata": {},
   "outputs": [
    {
     "name": "stdout",
     "output_type": "stream",
     "text": [
      "2016 NFL Regular Season Schedule | Pro-Football-Reference.com\n",
      "/Users/brandonhart/Documents/nfl_predictor/data/standings/2016_games.htm\n",
      "2017 NFL Regular Season Schedule | Pro-Football-Reference.com\n",
      "/Users/brandonhart/Documents/nfl_predictor/data/standings/2017_games.htm\n",
      "2018 NFL Regular Season Schedule | Pro-Football-Reference.com\n",
      "/Users/brandonhart/Documents/nfl_predictor/data/standings/2018_games.htm\n",
      "2019 NFL Regular Season Schedule | Pro-Football-Reference.com\n",
      "/Users/brandonhart/Documents/nfl_predictor/data/standings/2019_games.htm\n",
      "2020 NFL Regular Season Schedule | Pro-Football-Reference.com\n",
      "/Users/brandonhart/Documents/nfl_predictor/data/standings/2020_games.htm\n",
      "2021 NFL Regular Season Schedule | Pro-Football-Reference.com\n",
      "/Users/brandonhart/Documents/nfl_predictor/data/standings/2021_games.htm\n",
      "2022 NFL Regular Season Schedule | Pro-Football-Reference.com\n",
      "/Users/brandonhart/Documents/nfl_predictor/data/standings/2022_games.htm\n",
      "2023 NFL Regular Season Schedule | Pro-Football-Reference.com\n",
      "/Users/brandonhart/Documents/nfl_predictor/data/standings/2023_games.htm\n"
     ]
    }
   ],
   "source": [
    "for season in SEASONS:\n",
    "    await scrape_season(season)"
   ]
  },
  {
   "cell_type": "code",
   "execution_count": 26,
   "metadata": {},
   "outputs": [],
   "source": [
    "standings_files = os.listdir(STANDINGS_DIR)"
   ]
  },
  {
   "cell_type": "code",
   "execution_count": 27,
   "metadata": {},
   "outputs": [],
   "source": [
    "async def scrape_game(standings_file):\n",
    "    with open(standings_file, 'r') as f:\n",
    "        html = f.read()\n",
    "        \n",
    "    soup = BeautifulSoup(html)\n",
    "    links = soup.find_all(\"a\")\n",
    "    hrefs = [l.get(\"href\") for l in links]\n",
    "    box_scores = [l for l in hrefs if l and \"boxscore\" in l and \".htm\" in l]\n",
    "    box_scores = [f\"https://www.pro-football-reference.com{l}\" for l in box_scores]\n",
    "\n",
    "    for url in box_scores:\n",
    "        save_path = os.path.join(SCORES_DIR, url.split(\"/\")[-1])\n",
    "        if os.path.exists(save_path):\n",
    "            continue\n",
    "        \n",
    "        html = await get_html(url, \"#content\")\n",
    "        if not html:\n",
    "            continue\n",
    "        with open(save_path, 'w+') as f:\n",
    "            f.write(html)\n",
    "        "
   ]
  },
  {
   "cell_type": "code",
   "execution_count": null,
   "metadata": {},
   "outputs": [],
   "source": [
    "\n",
    "    for f in standings_files:\n",
    "        filepath = os.path.join(STANDINGS_DIR, f)\n",
    "        \n",
    "        await scrape_game(filepath)"
   ]
  },
  {
   "cell_type": "code",
   "execution_count": 29,
   "metadata": {},
   "outputs": [
    {
     "data": {
      "text/plain": [
       "['2021_games.htm',\n",
       " '2019_games.htm',\n",
       " '2020_games.htm',\n",
       " '2018_games.htm',\n",
       " '2016_games.htm',\n",
       " '2023_games.htm',\n",
       " '2017_games.htm',\n",
       " '2022_games.htm']"
      ]
     },
     "execution_count": 29,
     "metadata": {},
     "output_type": "execute_result"
    }
   ],
   "source": [
    "standings_files"
   ]
  }
 ],
 "metadata": {
  "kernelspec": {
   "display_name": "base",
   "language": "python",
   "name": "python3"
  },
  "language_info": {
   "codemirror_mode": {
    "name": "ipython",
    "version": 3
   },
   "file_extension": ".py",
   "mimetype": "text/x-python",
   "name": "python",
   "nbconvert_exporter": "python",
   "pygments_lexer": "ipython3",
   "version": "3.11.4"
  }
 },
 "nbformat": 4,
 "nbformat_minor": 2
}
